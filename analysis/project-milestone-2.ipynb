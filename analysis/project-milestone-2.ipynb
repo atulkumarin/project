{
 "cells": [
  {
   "cell_type": "markdown",
   "metadata": {},
   "source": [
    "In order to run this notebook you have to install the package `trump` in your computer. In the root folder of `trump` package you can run:\n",
    "```python\n",
    "pip3 install -e .\n",
    "```\n",
    "to install as a developer mode or\n",
    "```python\n",
    "pip3 install .\n",
    "```\n",
    "If you want, you can also bootstrap the virtual environment and run your notebook inside the virtual environment.\n",
    "```bash\n",
    "bash bootstrap-python-env.sh\n",
    "source trump-env/bin/activate\n",
    "jupyter notebook\n",
    "```\n",
    "This package was developed to make feasible read the code in the notebook, write tests for the functions and also to have a more manageable code base."
   ]
  },
  {
   "cell_type": "code",
   "execution_count": 1,
   "metadata": {},
   "outputs": [],
   "source": [
    "import sys\n",
    "\n",
    "import pandas as pd\n",
    "\n",
    "from trump.load import load_tweets\n",
    "from trump import treat\n",
    "\n",
    "import seaborn as sns\n",
    "sns.set_style(\"whitegrid\")\n",
    "import matplotlib.pyplot as plt\n",
    "%matplotlib inline\n",
    "from IPython.display import HTML\n",
    "import warnings\n",
    "warnings.filterwarnings('ignore')\n",
    "\n",
    "plots_args = {'fontsize': 14,\n",
    "              'color': '#9370DB'}"
   ]
  },
  {
   "cell_type": "markdown",
   "metadata": {},
   "source": [
    "# Demystifying POTUS, one tweet at a time...\n",
    "\n",
    "Twitter plays a crucial role in politics these days. Gone are the days of door-to-door campaigning and trying to reach the last man. Today, power is weilded by those who can tweet. A carefully worded 140 character phrase carries the ability to swing states and potentially change the course of an entire nation. The goal of our project is to analyse the impact of Twitter on society and understand how ideas are spread across a network.\n",
    "\n",
    "In order to investigate this question, our proposal is to analyse the tweets posted by Trump on Twitter over time to discover what was the main focus of his campaign, how it changed and how the society reacts to his discourses and proposals.\n",
    "\n",
    "The Trump Twitter Archive is a project that has been collecting Trump's tweets since 2009 but the main focus of this project will be the period of his campaign."
   ]
  },
  {
   "cell_type": "markdown",
   "metadata": {},
   "source": [
    "**For the milestone we have the following topics to be addressed:**\n",
    "\n",
    "- Choose the word scores dataset based on the amount of words available and context (what is the context upon which the scores were built).\n",
    "- Discover the window time feasible to develop the project in a machine with 8GB of RAM. The period of campaign must be included in this interval.\n",
    "- Descriptive and exploratory analysis of tweets' text.\n",
    "- Clean stop words from dataset.\n",
    "- Check if LDA model is a feasible approach to find topics and then classify tweets.\n",
    "- Have a final proposal of the topics that will be analysed to answer the `Research Questions`\n",
    "\n",
    "That will be answered in the next sections."
   ]
  },
  {
   "cell_type": "markdown",
   "metadata": {},
   "source": [
    "# Topics - Milestone 2"
   ]
  },
  {
   "cell_type": "markdown",
   "metadata": {},
   "source": [
    "## Dataset partition\n",
    "- Choose the word scores dataset based on the amount of words available and context (what is the context upon which the scores were built).\n",
    "- Discover the window time feasible to develop the project in a machine with 8GB of RAM. The period of campaign must be included in this interval.\n",
    "\n",
    "\n",
    "The amount of tweets is not so high as we expected, so it is feasible work with all the available years `{2009,...,2017}`. \n",
    "\n",
    "Be aware that the year of 2017 is not closed yet, so fields like `retweet_count` will mutate if you download the dataset in another instant of time. Beside that, the `as-of` of dataset in this repository of 2017 is `2017-11-24 14:00:00`."
   ]
  },
  {
   "cell_type": "code",
   "execution_count": 2,
   "metadata": {
    "collapsed": true
   },
   "outputs": [],
   "source": [
    "df = load_tweets()"
   ]
  },
  {
   "cell_type": "code",
   "execution_count": 3,
   "metadata": {},
   "outputs": [
    {
     "name": "stdout",
     "output_type": "stream",
     "text": [
      "Dataset with 31224 rows and size 24.6 MB \n",
      "\n"
     ]
    },
    {
     "data": {
      "text/html": [
       "<table border=\"1\" class=\"dataframe\">\n",
       "  <thead>\n",
       "    <tr style=\"text-align: right;\">\n",
       "      <th></th>\n",
       "      <th>1287</th>\n",
       "      <th>1288</th>\n",
       "    </tr>\n",
       "  </thead>\n",
       "  <tbody>\n",
       "    <tr>\n",
       "      <th>id</th>\n",
       "      <td>881830110114009089</td>\n",
       "      <td>881697281233354753</td>\n",
       "    </tr>\n",
       "    <tr>\n",
       "      <th>created_at</th>\n",
       "      <td>2017-07-03 11:00:56</td>\n",
       "      <td>2017-07-03 02:13:07</td>\n",
       "    </tr>\n",
       "    <tr>\n",
       "      <th>favorite_count</th>\n",
       "      <td>69696</td>\n",
       "      <td>104824</td>\n",
       "    </tr>\n",
       "    <tr>\n",
       "      <th>lang</th>\n",
       "      <td>en</td>\n",
       "      <td>en</td>\n",
       "    </tr>\n",
       "    <tr>\n",
       "      <th>place.country</th>\n",
       "      <td>NaN</td>\n",
       "      <td>NaN</td>\n",
       "    </tr>\n",
       "    <tr>\n",
       "      <th>place.name</th>\n",
       "      <td>NaN</td>\n",
       "      <td>NaN</td>\n",
       "    </tr>\n",
       "    <tr>\n",
       "      <th>geo.coordinates</th>\n",
       "      <td>NaN</td>\n",
       "      <td>NaN</td>\n",
       "    </tr>\n",
       "    <tr>\n",
       "      <th>coordinates.coordinates</th>\n",
       "      <td>NaN</td>\n",
       "      <td>NaN</td>\n",
       "    </tr>\n",
       "    <tr>\n",
       "      <th>retweet_count</th>\n",
       "      <td>11325</td>\n",
       "      <td>25922</td>\n",
       "    </tr>\n",
       "    <tr>\n",
       "      <th>user.id</th>\n",
       "      <td>25073877</td>\n",
       "      <td>25073877</td>\n",
       "    </tr>\n",
       "    <tr>\n",
       "      <th>user.followers_count</th>\n",
       "      <td>33844272</td>\n",
       "      <td>33844254</td>\n",
       "    </tr>\n",
       "    <tr>\n",
       "      <th>user.location</th>\n",
       "      <td>Washington, DC</td>\n",
       "      <td>Washington, DC</td>\n",
       "    </tr>\n",
       "    <tr>\n",
       "      <th>source</th>\n",
       "      <td>Twitter for iPhone</td>\n",
       "      <td>Media Studio</td>\n",
       "    </tr>\n",
       "    <tr>\n",
       "      <th>text</th>\n",
       "      <td>Will be speaking with Germany and France this ...</td>\n",
       "      <td>America's men &amp;amp; women in uniform is the st...</td>\n",
       "    </tr>\n",
       "    <tr>\n",
       "      <th>weekday</th>\n",
       "      <td>Monday</td>\n",
       "      <td>Monday</td>\n",
       "    </tr>\n",
       "    <tr>\n",
       "      <th>month_cohort</th>\n",
       "      <td>2017-07</td>\n",
       "      <td>2017-07</td>\n",
       "    </tr>\n",
       "    <tr>\n",
       "      <th>first_day_month_cohort</th>\n",
       "      <td>2017-07-01 00:00:00</td>\n",
       "      <td>2017-07-01 00:00:00</td>\n",
       "    </tr>\n",
       "    <tr>\n",
       "      <th>quarter_cohort</th>\n",
       "      <td>2017Q3</td>\n",
       "      <td>2017Q3</td>\n",
       "    </tr>\n",
       "    <tr>\n",
       "      <th>is_weekend</th>\n",
       "      <td>False</td>\n",
       "      <td>False</td>\n",
       "    </tr>\n",
       "  </tbody>\n",
       "</table>"
      ],
      "text/plain": [
       "<IPython.core.display.HTML object>"
      ]
     },
     "execution_count": 3,
     "metadata": {},
     "output_type": "execute_result"
    }
   ],
   "source": [
    "print('Dataset with {r} rows and size {s} MB \\n'\n",
    "      .format(r=len(df), s=round(sys.getsizeof(df)*1e-6, 1)))\n",
    "\n",
    "HTML(df.head(2).T.to_html())"
   ]
  },
  {
   "cell_type": "markdown",
   "metadata": {},
   "source": [
    "## Descriptive Analysis \n",
    "Descriptive and exploratory analysis of tweets' text."
   ]
  },
  {
   "cell_type": "markdown",
   "metadata": {},
   "source": [
    "### Number of tweets over time"
   ]
  },
  {
   "cell_type": "code",
   "execution_count": 4,
   "metadata": {},
   "outputs": [
    {
     "data": {
      "image/png": "[encoded data removed]",
      "text/plain": [
       "<matplotlib.figure.Figure at 0x12ab8d048>"
      ]
     },
     "metadata": {},
     "output_type": "display_data"
    }
   ],
   "source": [
    "count_by_month = df.groupby('first_day_month_cohort').size()\n",
    "count_by_month.plot(figsize=(10, 6), **plots_args);\n",
    "plt.title('# Tweets Aggregated by Month', fontsize=14); \n",
    "plt.xlabel('Time', fontsize=14); plt.ylabel('#', fontsize=14);"
   ]
  },
  {
   "cell_type": "markdown",
   "metadata": {},
   "source": [
    "Trump annouced his campaign in middle of 2015 and there is no skip in the period."
   ]
  },
  {
   "cell_type": "markdown",
   "metadata": {},
   "source": [
    "### Missingness"
   ]
  },
  {
   "cell_type": "code",
   "execution_count": 5,
   "metadata": {},
   "outputs": [
    {
     "data": {
      "text/html": [
       "<table border=\"1\" class=\"dataframe\">\n",
       "  <thead>\n",
       "    <tr style=\"text-align: right;\">\n",
       "      <th></th>\n",
       "      <th>missings</th>\n",
       "    </tr>\n",
       "    <tr>\n",
       "      <th>col</th>\n",
       "      <th></th>\n",
       "    </tr>\n",
       "  </thead>\n",
       "  <tbody>\n",
       "    <tr>\n",
       "      <th>place.country</th>\n",
       "      <td>0.91</td>\n",
       "    </tr>\n",
       "    <tr>\n",
       "      <th>place.name</th>\n",
       "      <td>0.91</td>\n",
       "    </tr>\n",
       "    <tr>\n",
       "      <th>geo.coordinates</th>\n",
       "      <td>0.93</td>\n",
       "    </tr>\n",
       "    <tr>\n",
       "      <th>coordinates.coordinates</th>\n",
       "      <td>0.93</td>\n",
       "    </tr>\n",
       "  </tbody>\n",
       "</table>"
      ],
      "text/plain": [
       "<IPython.core.display.HTML object>"
      ]
     },
     "execution_count": 5,
     "metadata": {},
     "output_type": "execute_result"
    }
   ],
   "source": [
    "def describe_missing(df):\n",
    "    missing = []\n",
    "\n",
    "    for c in df.columns:\n",
    "        count_missing = pd.isnull(df[c]).sum()\n",
    "        if count_missing > 0:\n",
    "            missing.append((c, round(count_missing / df.shape[0], 2)))\n",
    "\n",
    "    return pd.DataFrame(missing, columns=['col', 'missings']).set_index('col')\n",
    "\n",
    "HTML(describe_missing(df).to_html())"
   ]
  },
  {
   "cell_type": "markdown",
   "metadata": {},
   "source": [
    "One of your research question is about geographic position, but seems that we won't be able to have a lot of accuracy and enough data to analyse. Let's check how `geo.coordinates` behaves over time."
   ]
  },
  {
   "cell_type": "markdown",
   "metadata": {},
   "source": [
    "### Device\n",
    "\n",
    "This [blog post](http://varianceexplained.org/r/trump-tweets/) does an sentimental analysis of tweets split by device and it was found that certain types of devices tend to have more aggressive messages than others. Below we can see the number of tweets by device and quarter."
   ]
  },
  {
   "cell_type": "code",
   "execution_count": 52,
   "metadata": {},
   "outputs": [
    {
     "data": {
      "text/plain": [
       "quarter_cohort  source                  \n",
       "2014Q3          Twitter for Websites           1\n",
       "2013Q3          Twitter for iPhone             1\n",
       "2014Q1          Twitter for iPhone             1\n",
       "2014Q3          Instagram                      1\n",
       "2015Q1          Mobile Web (M5)                1\n",
       "2013Q4          Vine - Make a Scene            1\n",
       "2015Q3          Twitter Mirror for iPad        1\n",
       "2015Q4          Periscope                      1\n",
       "                Twitter Ads                    1\n",
       "2016Q1          Mobile Web (M5)                1\n",
       "2012Q4          Twitter for iPhone             1\n",
       "2013Q4          Twitter for iPhone             1\n",
       "2016Q4          Periscope                      1\n",
       "                Twitter Ads                    1\n",
       "2016Q3          Media Studio                   1\n",
       "2017Q1          Media Studio                   1\n",
       "2014Q1          Twitlonger                     2\n",
       "2013Q2          Twitter for iPhone             2\n",
       "2017Q1          Twitter Ads                    2\n",
       "2015Q2          Periscope                      2\n",
       "2016Q2          Instagram                      2\n",
       "2015Q3          Facebook                       2\n",
       "2017Q3          Media Studio                   3\n",
       "2015Q3          Periscope                      3\n",
       "2016Q4          Twitter for iPad               3\n",
       "2013Q1          TwitLonger Beta                3\n",
       "2014Q4          Twitter for BlackBerry         3\n",
       "2014Q1          Instagram                      4\n",
       "2013Q1          Twitter for iPhone             4\n",
       "2015Q1          Neatly For BlackBerry 10       5\n",
       "                                            ... \n",
       "2014Q1          Twitter Web Client           467\n",
       "2012Q2          Twitter Web Client           469\n",
       "2016Q4          Twitter for iPhone           473\n",
       "2017Q2          Twitter for iPhone           474\n",
       "2015Q1          Twitter Web Client           478\n",
       "2016Q3          Twitter for iPhone           487\n",
       "2015Q2          Twitter Web Client           505\n",
       "2014Q4          Twitter Web Client           530\n",
       "2014Q1          Twitter for Android          545\n",
       "2015Q3          Twitter Web Client           552\n",
       "2014Q3          Twitter Web Client           588\n",
       "2014Q2          Twitter Web Client           616\n",
       "2016Q1          Twitter for iPhone           635\n",
       "2013Q4          Twitter for Android          640\n",
       "                Twitter Web Client           646\n",
       "2014Q3          Twitter for Android          709\n",
       "2016Q1          Twitter for Android          715\n",
       "2013Q3          Twitter Web Client           820\n",
       "2012Q3          Twitter Web Client           848\n",
       "2015Q3          Twitter for Android          872\n",
       "2013Q2          Twitter Web Client           885\n",
       "2014Q2          Twitter for Android          997\n",
       "2013Q2          Twitter for Android         1213\n",
       "2014Q4          Twitter for Android         1290\n",
       "2015Q4          Twitter for Android         1400\n",
       "2013Q3          Twitter for Android         1402\n",
       "2012Q4          Twitter Web Client          1443\n",
       "2015Q1          Twitter for Android         1447\n",
       "2015Q2          Twitter for Android         1461\n",
       "2013Q1          Twitter Web Client          1903\n",
       "Length: 126, dtype: int64"
      ]
     },
     "execution_count": 52,
     "metadata": {},
     "output_type": "execute_result"
    }
   ],
   "source": [
    "df.groupby(['quarter_cohort', 'source']).size().sort_values()"
   ]
  },
  {
   "cell_type": "markdown",
   "metadata": {},
   "source": [
    "### Location\n",
    "\n",
    "In section [Missingness](#Missingness) the variable `geo.coordinates` has a lot of missing values, however they are well spreaded over time, so it is still worth doing the analysis of geo location"
   ]
  },
  {
   "cell_type": "code",
   "execution_count": 37,
   "metadata": {},
   "outputs": [
    {
     "data": {
      "image/png": "[encoded data removed]",
      "text/plain": [
       "<matplotlib.figure.Figure at 0x117057d68>"
      ]
     },
     "metadata": {},
     "output_type": "display_data"
    }
   ],
   "source": [
    "coord = df[['geo.coordinates', 'first_day_month_cohort']].copy()\n",
    "coord['is_valid_coord'] = coord['geo.coordinates'].apply(lambda x: pd.notnull(str(x)))\n",
    "coord_non_missing = coord.groupby('first_day_month_cohort').sum()\n",
    "\n",
    "coord_non_missing.plot(figsize=(10, 6), legend=None, **plots_args);\n",
    "plt.title('# Valid Geo Coordinates', fontsize=14); \n",
    "plt.xlabel('Time', fontsize=14); plt.ylabel('#', fontsize=14);"
   ]
  },
  {
   "cell_type": "markdown",
   "metadata": {},
   "source": [
    "The field `place.country` is calculated has the following distribution however is not that usefull because most of them are in United States"
   ]
  },
  {
   "cell_type": "code",
   "execution_count": 53,
   "metadata": {},
   "outputs": [
    {
     "data": {
      "text/html": [
       "<table border=\"1\" class=\"dataframe\">\n",
       "  <thead>\n",
       "    <tr style=\"text-align: right;\">\n",
       "      <th></th>\n",
       "      <th>0</th>\n",
       "    </tr>\n",
       "    <tr>\n",
       "      <th>place.country</th>\n",
       "      <th></th>\n",
       "    </tr>\n",
       "  </thead>\n",
       "  <tbody>\n",
       "    <tr>\n",
       "      <th>United States</th>\n",
       "      <td>2784</td>\n",
       "    </tr>\n",
       "    <tr>\n",
       "      <th>United Kingdom</th>\n",
       "      <td>34</td>\n",
       "    </tr>\n",
       "    <tr>\n",
       "      <th>India</th>\n",
       "      <td>13</td>\n",
       "    </tr>\n",
       "    <tr>\n",
       "      <th>Ireland</th>\n",
       "      <td>9</td>\n",
       "    </tr>\n",
       "    <tr>\n",
       "      <th>Italy</th>\n",
       "      <td>7</td>\n",
       "    </tr>\n",
       "    <tr>\n",
       "      <th>Russia</th>\n",
       "      <td>3</td>\n",
       "    </tr>\n",
       "    <tr>\n",
       "      <th>Republic of Croatia</th>\n",
       "      <td>3</td>\n",
       "    </tr>\n",
       "    <tr>\n",
       "      <th></th>\n",
       "      <td>3</td>\n",
       "    </tr>\n",
       "    <tr>\n",
       "      <th>Kingdom of Saudi Arabia</th>\n",
       "      <td>2</td>\n",
       "    </tr>\n",
       "    <tr>\n",
       "      <th>Belgium</th>\n",
       "      <td>1</td>\n",
       "    </tr>\n",
       "  </tbody>\n",
       "</table>"
      ],
      "text/plain": [
       "<IPython.core.display.HTML object>"
      ]
     },
     "execution_count": 53,
     "metadata": {},
     "output_type": "execute_result"
    }
   ],
   "source": [
    "HTML(pd.DataFrame(pd.Series(df.groupby('place.country').size()).sort_values(ascending=False)).to_html())"
   ]
  },
  {
   "cell_type": "code",
   "execution_count": null,
   "metadata": {
    "collapsed": true
   },
   "outputs": [],
   "source": [
    "# TODO"
   ]
  },
  {
   "cell_type": "markdown",
   "metadata": {},
   "source": [
    "### Clean and Analyse Text\n",
    "Clean stop words from dataset."
   ]
  },
  {
   "cell_type": "code",
   "execution_count": null,
   "metadata": {
    "collapsed": true
   },
   "outputs": [],
   "source": [
    "# TODO"
   ]
  },
  {
   "cell_type": "markdown",
   "metadata": {},
   "source": [
    "### Topics classification\n",
    "Check if LDA model is a feasible approach to find topics and then classify tweets."
   ]
  },
  {
   "cell_type": "code",
   "execution_count": null,
   "metadata": {
    "collapsed": true
   },
   "outputs": [],
   "source": [
    "# TODO"
   ]
  },
  {
   "cell_type": "markdown",
   "metadata": {},
   "source": [
    "### Research Questions\n",
    "Have a final proposal of the topics that will be analysed to answer the `Research Questions`"
   ]
  },
  {
   "cell_type": "code",
   "execution_count": 13,
   "metadata": {
    "collapsed": true
   },
   "outputs": [],
   "source": [
    "# TODO"
   ]
  }
 ],
 "metadata": {
  "kernelspec": {
   "display_name": "Python 3",
   "language": "python",
   "name": "python3"
  },
  "language_info": {
   "codemirror_mode": {
    "name": "ipython",
    "version": 3
   },
   "file_extension": ".py",
   "mimetype": "text/x-python",
   "name": "python",
   "nbconvert_exporter": "python",
   "pygments_lexer": "ipython3",
   "version": "3.6.3"
  }
 },
 "nbformat": 4,
 "nbformat_minor": 2
}
