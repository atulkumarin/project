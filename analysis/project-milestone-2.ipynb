{
 "cells": [
  {
   "cell_type": "markdown",
   "metadata": {},
   "source": [
    "In order to run this notebook you have to install the package `trump` in your computer. In the root folder of `trump` package you can run:\n",
    "```python\n",
    "pip3 install -e .\n",
    "```\n",
    "to install as a developer mode or\n",
    "```python\n",
    "pip3 install .\n",
    "```\n",
    "If you want, you can also bootstrap the virtual environment and run your notebook inside the virtual environment.\n",
    "```bash\n",
    "bash bootstrap-python-env.sh\n",
    "source trump-env/bin/activate\n",
    "jupyter notebook\n",
    "```\n",
    "This package was developed to make feasible read the code in the notebook, write tests for the functions and also to have a more manageable code base."
   ]
  },
  {
   "cell_type": "code",
   "execution_count": 8,
   "metadata": {},
   "outputs": [],
   "source": [
    "from trump.load import load_tweets\n",
    "from trump import treat\n",
    "\n",
    "from IPython.display import HTML"
   ]
  },
  {
   "cell_type": "markdown",
   "metadata": {},
   "source": [
    "# Demystifying POTUS, one tweet at a time...\n",
    "\n",
    "Twitter plays a crucial role in politics these days. Gone are the days of door-to-door campaigning and trying to reach the last man. Today, power is weilded by those who can tweet. A carefully worded 140 character phrase carries the ability to swing states and potentially change the course of an entire nation. The goal of our project is to analyse the impact of Twitter on society and understand how ideas are spread across a network.\n",
    "\n",
    "In order to investigate this question, our proposal is to analyse the tweets posted by Trump on Twitter over time to discover what was the main focus of his campaign, how it changed and how the society reacts to his discourses and proposals.\n",
    "\n",
    "The Trump Twitter Archive is a project that has been collecting Trump's tweets since 2009 but the main focus of this project will be the period of his campaign."
   ]
  },
  {
   "cell_type": "markdown",
   "metadata": {},
   "source": [
    "**For the milestone we have the following topics to be addressed:**\n",
    "\n",
    "- Choose the word scores dataset based on the amount of words available and context (what is the context upon which the scores were built).\n",
    "- Discover the window time feasible to develop the project in a machine with 8GB of RAM. The period of campaign must be included in this interval.\n",
    "- Descriptive and exploratory analysis of tweets' text.\n",
    "- Clean stop words from dataset.\n",
    "- Check if LDA model is a feasible approach to find topics and then classify tweets.\n",
    "- Have a final proposal of the topics that will be analysed to answer the `Research Questions`\n",
    "\n",
    "That will be answered in the next sections."
   ]
  },
  {
   "cell_type": "markdown",
   "metadata": {},
   "source": [
    "## Topics - Milestone 2"
   ]
  },
  {
   "cell_type": "markdown",
   "metadata": {},
   "source": [
    "### Dataset partition\n",
    "- Choose the word scores dataset based on the amount of words available and context (what is the context upon which the scores were built).\n",
    "- Discover the window time feasible to develop the project in a machine with 8GB of RAM. The period of campaign must be included in this interval."
   ]
  },
  {
   "cell_type": "code",
   "execution_count": null,
   "metadata": {
    "collapsed": true
   },
   "outputs": [],
   "source": [
    "# TODO"
   ]
  },
  {
   "cell_type": "code",
   "execution_count": null,
   "metadata": {
    "collapsed": true
   },
   "outputs": [],
   "source": [
    "df = load_tweets()\n",
    "HTML(df.head().to_html())"
   ]
  },
  {
   "cell_type": "markdown",
   "metadata": {},
   "source": [
    "### Descriptive Analysis\n",
    "Descriptive and exploratory analysis of tweets' text."
   ]
  },
  {
   "cell_type": "code",
   "execution_count": null,
   "metadata": {
    "collapsed": true
   },
   "outputs": [],
   "source": [
    "# TODO"
   ]
  },
  {
   "cell_type": "markdown",
   "metadata": {},
   "source": [
    "### Clean text\n",
    "Clean stop words from dataset."
   ]
  },
  {
   "cell_type": "code",
   "execution_count": null,
   "metadata": {
    "collapsed": true
   },
   "outputs": [],
   "source": [
    "# TODO"
   ]
  },
  {
   "cell_type": "markdown",
   "metadata": {},
   "source": [
    "### Topics classification\n",
    "Check if LDA model is a feasible approach to find topics and then classify tweets."
   ]
  },
  {
   "cell_type": "code",
   "execution_count": null,
   "metadata": {
    "collapsed": true
   },
   "outputs": [],
   "source": [
    "# TODO"
   ]
  },
  {
   "cell_type": "markdown",
   "metadata": {},
   "source": [
    "### Research Questions\n",
    "Have a final proposal of the topics that will be analysed to answer the `Research Questions`"
   ]
  },
  {
   "cell_type": "code",
   "execution_count": 13,
   "metadata": {
    "collapsed": true
   },
   "outputs": [],
   "source": [
    "# TODO"
   ]
  },
  {
   "cell_type": "code",
   "execution_count": null,
   "metadata": {
    "collapsed": true
   },
   "outputs": [],
   "source": []
  }
 ],
 "metadata": {
  "kernelspec": {
   "display_name": "Python 3",
   "language": "python",
   "name": "python3"
  },
  "language_info": {
   "codemirror_mode": {
    "name": "ipython",
    "version": 3
   },
   "file_extension": ".py",
   "mimetype": "text/x-python",
   "name": "python",
   "nbconvert_exporter": "python",
   "pygments_lexer": "ipython3",
   "version": "3.6.3"
  }
 },
 "nbformat": 4,
 "nbformat_minor": 2
}
